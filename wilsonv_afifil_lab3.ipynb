{
 "cells": [
  {
   "cell_type": "markdown",
   "id": "6ea119c4",
   "metadata": {},
   "source": [
    "# Lab 3\n",
    "\n",
    "---------\n",
    "\n",
    "CSC3310 - 002\n",
    "\n",
    "Leena Afifi\n",
    "\n",
    "Vlad Wilson\n",
    "\n",
    "## Abstract"
   ]
  },
  {
   "cell_type": "code",
   "execution_count": 3,
   "id": "036ddb21",
   "metadata": {},
   "outputs": [],
   "source": [
    "from typing import List, Tuple\n",
    "\n",
    "Point = Tuple[float, float]\n",
    "\n",
    "def _point_on_segment(p: Point, a: Point, b: Point, eps: float = 1e-9) -> bool:\n",
    "    \"\"\"Return True if point p lies on the closed segment ab (with tolerance).\"\"\"\n",
    "    (px, py), (x1, y1), (x2, y2) = p, a, b\n",
    "    # Collinearity test via cross product area\n",
    "    cross = (x2 - x1) * (py - y1) - (y2 - y1) * (px - x1)\n",
    "    if abs(cross) > eps:\n",
    "        return False\n",
    "    # Within bounding box\n",
    "    return (min(x1, x2) - eps <= px <= max(x1, x2) + eps and\n",
    "            min(y1, y2) - eps <= py <= max(y1, y2) + eps)\n",
    "\n",
    "def point_in_polygon(point: Tuple[float, float],\n",
    "                     vertices: List[Tuple[float, float]]) -> bool:\n",
    "    \"\"\"\n",
    "    Return True iff `point` is inside the simple polygon defined by `vertices`.\n",
    "    Points on the boundary are considered inside.\n",
    "    Runs in O(n) time where n = number of vertices.\n",
    "    \"\"\"\n",
    "    px, py = point\n",
    "    n = len(vertices)\n",
    "\n",
    "    # 1) Boundary-inclusive check\n",
    "    for i in range(n):\n",
    "        a = vertices[i]\n",
    "        b = vertices[(i + 1) % n]\n",
    "        if _point_on_segment(point, a, b):\n",
    "            return True\n",
    "\n",
    "    # 2) Ray-casting to +x (even–odd rule)\n",
    "    inside = False\n",
    "    for i in range(n):\n",
    "        x1, y1 = vertices[i]\n",
    "        x2, y2 = vertices[(i + 1) % n]\n",
    "\n",
    "        # Does the edge straddle the horizontal line y = py?\n",
    "        # Using strict '>' ensures vertices are counted once.\n",
    "        if (y1 > py) != (y2 > py):\n",
    "            # x coordinate where the edge intersects y = py\n",
    "            xinters = x1 + (py - y1) * (x2 - x1) / (y2 - y1)  # y2 != y1 here\n",
    "            if xinters >= px - 1e-9:  # intersection to the right of the point\n",
    "                inside = not inside\n",
    "\n",
    "    return inside"
   ]
  },
  {
   "cell_type": "code",
   "execution_count": null,
   "id": "b7a8ae9d",
   "metadata": {},
   "outputs": [
    {
     "name": "stdout",
     "output_type": "stream",
     "text": [
      "Point is outside the polygon\n"
     ]
    }
   ],
   "source": [
    "if __name__ == \"__main__\":\n",
    "    # Define a point to test\n",
    "    point = (179, 10)\n",
    "\n",
    "    # Define a polygon\n",
    "    polygon = [\n",
    "        (186, 14),\n",
    "        (186, 44),\n",
    "        (175, 115),\n",
    "        (175, 85)\n",
    "    ]\n",
    "\n",
    "    # Check if the point is inside the polygon\n",
    "    if point_in_polygon(point, polygon):\n",
    "        print(\"Point is inside the polygon\")\n",
    "    else:\n",
    "        print(\"Point is outside the polygon\")"
   ]
  }
 ],
 "metadata": {
  "kernelspec": {
   "display_name": ".venv",
   "language": "python",
   "name": "python3"
  },
  "language_info": {
   "codemirror_mode": {
    "name": "ipython",
    "version": 3
   },
   "file_extension": ".py",
   "mimetype": "text/x-python",
   "name": "python",
   "nbconvert_exporter": "python",
   "pygments_lexer": "ipython3",
   "version": "3.13.7"
  }
 },
 "nbformat": 4,
 "nbformat_minor": 5
}
