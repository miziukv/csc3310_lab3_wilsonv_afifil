{
 "cells": [
  {
   "cell_type": "markdown",
   "id": "6ea119c4",
   "metadata": {},
   "source": [
    "# Lab 3\n",
    "\n",
    "---------\n",
    "\n",
    "CSC3310 - 002\n",
    "\n",
    "Leena Afifi\n",
    "\n",
    "Vlad Wilson\n",
    "\n",
    "## Abstract"
   ]
  },
  {
   "cell_type": "code",
   "execution_count": null,
   "id": "036ddb21",
   "metadata": {
    "vscode": {
     "languageId": "plaintext"
    }
   },
   "outputs": [],
   "source": []
  }
 ],
 "metadata": {
  "language_info": {
   "name": "python"
  }
 },
 "nbformat": 4,
 "nbformat_minor": 5
}
