{
 "cells": [
  {
   "cell_type": "markdown",
   "id": "6ea119c4",
   "metadata": {},
   "source": [
    "# Lab 3\n",
    "\n",
    "---------\n",
    "\n",
    "CSC3310 - 002\n",
    "\n",
    "Leena Afifi\n",
    "\n",
    "Vlad Wilson\n",
    "\n",
    "## Abstract"
   ]
  },
  {
   "cell_type": "code",
   "execution_count": null,
   "id": "036ddb21",
   "metadata": {},
   "outputs": [],
   "source": []
  },
  {
   "cell_type": "code",
   "execution_count": null,
   "id": "b7a8ae9d",
   "metadata": {},
   "outputs": [
    {
     "name": "stdout",
     "output_type": "stream",
     "text": [
      "Point is outside the polygon\n"
     ]
    }
   ],
   "source": [
    "class Point:\n",
    "    def __init__(self, x, y):\n",
    "        self.x = x\n",
    "        self.y = y\n",
    "\n",
    "if __name__ == \"__main__\":\n",
    "    # Define a point to test\n",
    "    point = Point(179, 10)\n",
    "\n",
    "    # Define a polygon\n",
    "    polygon = [\n",
    "        Point(186, 14),\n",
    "        Point(186, 44),\n",
    "        Point(175, 115),\n",
    "        Point(175, 85)\n",
    "    ]\n",
    "\n",
    "    # Check if the point is inside the polygon\n",
    "    if point_in_polygon(point, polygon):\n",
    "        print(\"Point is inside the polygon\")\n",
    "    else:\n",
    "        print(\"Point is outside the polygon\")"
   ]
  }
 ],
 "metadata": {
  "kernelspec": {
   "display_name": "Python 3",
   "language": "python",
   "name": "python3"
  },
  "language_info": {
   "codemirror_mode": {
    "name": "ipython",
    "version": 3
   },
   "file_extension": ".py",
   "mimetype": "text/x-python",
   "name": "python",
   "nbconvert_exporter": "python",
   "pygments_lexer": "ipython3",
   "version": "3.12.8"
  }
 },
 "nbformat": 4,
 "nbformat_minor": 5
}
